{
 "cells": [
  {
   "cell_type": "code",
   "execution_count": null,
   "metadata": {},
   "outputs": [],
   "source": [
    "%matplotlib inline\n",
    "import xarray as xr\n",
    "import matplotlib.pyplot as plt\n",
    "import numpy as np\n",
    "import dask.array as da\n",
    "import matplotlib.pyplot as plt\n",
    "import matplotlib.dates as mdates\n",
    "import matplotlib.ticker as ticker\n",
    "import cmocean.cm as cmo\n",
    "import h5py\n",
    "from datetime import datetime as dt\n",
    "from scipy.interpolate import interp1d\n",
    "\n",
    "plt.style.use('ggplot')"
   ]
  },
  {
   "cell_type": "code",
   "execution_count": null,
   "metadata": {},
   "outputs": [],
   "source": [
    "dataurl = 'http://oceanmodeling.pmc.ucsc.edu:8080/thredds/dodsC/ccsra_2016a_phys_agg_zlevs/fmrc/CCSRA_2016a_Phys_ROMS_z-level_(depth)_Aggregation_best.ncd'"
   ]
  },
  {
   "cell_type": "code",
   "execution_count": null,
   "metadata": {},
   "outputs": [],
   "source": [
    "### Open the dataset with xarray\n",
    "ds = xr.open_dataset(dataurl)"
   ]
  },
  {
   "cell_type": "code",
   "execution_count": null,
   "metadata": {},
   "outputs": [],
   "source": [
    "### Let's see what's in the dataset\n",
    "# hooo boy, there's a lot here with all the metadata and everything\n",
    "ds"
   ]
  },
  {
   "cell_type": "code",
   "execution_count": null,
   "metadata": {},
   "outputs": [],
   "source": [
    "### making a timenum column for plotting\n",
    "ds['mtime'] = mdates.date2num(ds.time)"
   ]
  },
  {
   "cell_type": "code",
   "execution_count": null,
   "metadata": {},
   "outputs": [],
   "source": [
    "### Import modules for mapping\n",
    "import cartopy.crs as ccrs\n",
    "import cartopy\n",
    "import matplotlib.gridspec as gridspec # GRIDSPEC !\n",
    "from cartopy.mpl.gridliner import LONGITUDE_FORMATTER, LATITUDE_FORMATTER"
   ]
  },
  {
   "cell_type": "code",
   "execution_count": null,
   "metadata": {},
   "outputs": [],
   "source": [
    "time_index = 1500\n",
    "var = ds.temp[time_index,9,:,:]"
   ]
  },
  {
   "cell_type": "code",
   "execution_count": null,
   "metadata": {},
   "outputs": [],
   "source": [
    "fig = plt.figure(1, figsize=(13,8))\n",
    "ax = plt.subplot(projection=ccrs.PlateCarree())\n",
    "plot_date = mdates.num2date(ds.mtime.values[time_index])\n",
    "plt.title('Surface Temperature (100$m$) \\n CaliROMS on {}'.format(plot_date))\n",
    "\n",
    "max_v = np.nanmax(var)\n",
    "min_v = np.nanmin(var)\n",
    "kw = dict(levels=np.linspace(min_v,max_v,101), \n",
    "          cmap=cmo.thermal, \n",
    "          transform=ccrs.PlateCarree())\n",
    "\n",
    "plt.contourf(ds.lon_rho.values, ds.lat_rho.values, var, **kw)\n",
    "cb = plt.colorbar(pad=0.01)\n",
    "cb.set_label('Temperature ($^{\\circ}$C)',rotation=270, labelpad=25, fontsize=12)\n",
    "\n",
    "### High resolution coastline is set by resolution='10m'\n",
    "ax.coastlines(resolution='50m', color='black', linewidth=1)\n",
    "ax.add_feature(cartopy.feature.LAND, zorder=0)\n",
    "ax.add_feature(cartopy.feature.OCEAN, zorder=0, color='gray', alpha=0.1)\n",
    "\n",
    "gl = ax.gridlines(crs=ccrs.PlateCarree(), draw_labels=True,\n",
    "                  linewidth=1, color='gray', alpha=0.2, linestyle='--')\n",
    "gl.xformatter = LONGITUDE_FORMATTER\n",
    "gl.yformatter = LATITUDE_FORMATTER\n",
    "gl.xlabels_top = False\n",
    "gl.ylabels_right = False\n",
    "gl.xlabel_style = {'size': 14}\n",
    "gl.ylabel_style = {'size': 14}\n",
    "\n",
    "plt.show()"
   ]
  },
  {
   "cell_type": "code",
   "execution_count": null,
   "metadata": {},
   "outputs": [],
   "source": []
  },
  {
   "cell_type": "code",
   "execution_count": null,
   "metadata": {},
   "outputs": [],
   "source": []
  }
 ],
 "metadata": {
  "kernelspec": {
   "display_name": "Python 3",
   "language": "python",
   "name": "python3"
  },
  "language_info": {
   "codemirror_mode": {
    "name": "ipython",
    "version": 3
   },
   "file_extension": ".py",
   "mimetype": "text/x-python",
   "name": "python",
   "nbconvert_exporter": "python",
   "pygments_lexer": "ipython3",
   "version": "3.6.7"
  }
 },
 "nbformat": 4,
 "nbformat_minor": 2
}
