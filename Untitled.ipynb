{
 "cells": [
  {
   "cell_type": "code",
   "execution_count": 1,
   "metadata": {},
   "outputs": [],
   "source": [
    "%matplotlib inline\n",
    "import xarray as xr\n",
    "import matplotlib.pyplot as plt\n",
    "import numpy as np\n",
    "import dask.array as da\n",
    "import matplotlib.pyplot as plt\n",
    "import matplotlib.dates as mdates\n",
    "import matplotlib.ticker as ticker\n",
    "import cmocean.cm as cmo\n",
    "import h5py\n",
    "from datetime import datetime as dt\n",
    "from scipy.interpolate import interp1d\n",
    "\n",
    "plt.style.use('ggplot')"
   ]
  },
  {
   "cell_type": "code",
   "execution_count": 2,
   "metadata": {},
   "outputs": [],
   "source": [
    "dataurl = 'http://oceanmodeling.pmc.ucsc.edu:8080/thredds/dodsC/ccsra_2016a_phys_agg_zlevs/fmrc/CCSRA_2016a_Phys_ROMS_z-level_(depth)_Aggregation_best.ncd'"
   ]
  },
  {
   "cell_type": "code",
   "execution_count": 3,
   "metadata": {},
   "outputs": [],
   "source": [
    "### Open the dataset with xarray\n",
    "ds = xr.open_dataset(dataurl)"
   ]
  },
  {
   "cell_type": "code",
   "execution_count": 5,
   "metadata": {},
   "outputs": [
    {
     "data": {
      "text/plain": [
       "<xarray.Dataset>\n",
       "Dimensions:      (eta_rho: 181, eta_u: 181, eta_v: 180, ocean_time: 1, time: 3104, xi_rho: 186, xi_u: 185, xi_v: 186, z: 11)\n",
       "Coordinates:\n",
       "    lat_rho      (eta_rho, xi_rho) float64 ...\n",
       "    lat_u        (eta_u, xi_u) float64 ...\n",
       "    lat_v        (eta_v, xi_v) float64 ...\n",
       "    lon_rho      (eta_rho, xi_rho) float64 ...\n",
       "    lon_u        (eta_u, xi_u) float64 ...\n",
       "    lon_v        (eta_v, xi_v) float64 ...\n",
       "  * ocean_time   (ocean_time) datetime64[ns] 2019-06-19\n",
       "  * z            (z) float64 -250.0 -200.0 -150.0 -100.0 ... -10.0 -5.0 -2.0\n",
       "  * time         (time) datetime64[ns] 2011-01-02 2011-01-03 ... 2019-07-02\n",
       "    time_run     (time) datetime64[ns] ...\n",
       "Dimensions without coordinates: eta_rho, eta_u, eta_v, xi_rho, xi_u, xi_v\n",
       "Data variables:\n",
       "    angle        (eta_rho, xi_rho) float64 ...\n",
       "    h            (eta_rho, xi_rho) float64 ...\n",
       "    mask_rho     (eta_rho, xi_rho) float64 ...\n",
       "    mask_u       (eta_u, xi_u) float64 ...\n",
       "    mask_v       (eta_v, xi_v) float64 ...\n",
       "    ubar         (time, eta_u, xi_u) float64 ...\n",
       "    vbar         (time, eta_v, xi_v) float64 ...\n",
       "    zeta         (time, eta_rho, xi_rho) float64 ...\n",
       "    temp         (time, z, eta_rho, xi_rho) float32 ...\n",
       "    salt         (time, z, eta_rho, xi_rho) float32 ...\n",
       "    rho          (time, z, eta_rho, xi_rho) float32 ...\n",
       "    u            (time, z, eta_u, xi_u) float32 ...\n",
       "    v            (time, z, eta_v, xi_v) float32 ...\n",
       "    w            (time, z, eta_rho, xi_rho) float32 ...\n",
       "    time_offset  (time) datetime64[ns] ...\n",
       "Attributes:\n",
       "    file:                            output/da_fwd_002.nc\n",
       "    format:                          netCDF-3 64bit offset file\n",
       "    Conventions:                     CF-1.4, _Coordinates\n",
       "    type:                            ROMS/TOMS history file\n",
       "    title:                           UCSC California Current System, wc12.0_c...\n",
       "    state_vector:                    zeta, ubar, vbar, u, v, temp, salt\n",
       "    rst_file:                        output/da_rst.nc\n",
       "    his_file:                        output/da_fwd_002.nc\n",
       "    grd_file:                        /proj/ocemod_cencoos_1/ccsrt_v0.2_sys/gr...\n",
       "    ini_file:                        ncfiles/wc12.0_ini_20190616.nc\n",
       "    itl_file:                        ncfiles/da_itl.nc\n",
       "    nrm_file:                        ncfiles/wc12_nrm_i_v7.nc.HAJOON.OLDC_sta...\n",
       "    obs_file:                        ncfiles/wc12.0_ssh_cmems_hfradar_ucsd_ss...\n",
       "    frc_file_01:                     /proj/ocemod_cencoos_2/coamps/joined/wc1...\n",
       "    frc_file_02:                     /proj/ocemod_cencoos_2/coamps/joined/wc1...\n",
       "    frc_file_03:                     /proj/ocemod_cencoos_2/coamps/joined/wc1...\n",
       "    frc_file_04:                     /proj/ocemod_cencoos_2/coamps/joined/wc1...\n",
       "    frc_file_05:                     /proj/ocemod_cencoos_2/coamps/joined/wc1...\n",
       "    frc_file_06:                     /proj/ocemod_cencoos_2/coamps/joined/wc1...\n",
       "    frc_file_07:                     /proj/ocemod_cencoos_2/coamps/joined/wc1...\n",
       "    bry_file:                        /proj/ocemod_cencoos_1/ccsrt_v0.2_runs/w...\n",
       "    fwd_file:                        output/da_fwd_001.nc\n",
       "    script_file:                     \n",
       "    apar_file:                       is4dvar_phys_only_737jpm_pauls_setup_as_...\n",
       "    NLM_LBC:                         \\nEDGE:  WEST   SOUTH  EAST   NORTH  \\nz...\n",
       "    ADM_LBC:                         \\nEDGE:  WEST   SOUTH  EAST   NORTH  \\nz...\n",
       "    svn_url:                         https://www.myroms.org/svn/src/trunk\n",
       "    svn_rev:                         exported\n",
       "    code_dir:                        /auto/proj/pmattern/roms/code/roms_737_all\n",
       "    header_dir:                      /proj/ocemod_cencoos_1/ccsrt_v0.2_sys/ro...\n",
       "    header_file:                     wc12_ccsra.h\n",
       "    os:                              Linux\n",
       "    cpu:                             x86_64\n",
       "    compiler_system:                 pgi\n",
       "    compiler_command:                /soft/openmpi_1.10.2/CentOS_6_pgi/bin/mp...\n",
       "    compiler_flags:                   -O3 -Mfree\n",
       "    tiling:                          004x003\n",
       "    history:                         Sat Jun 22 00:55:30 2019: ncks -v ocean_...\n",
       "    ana_file:                        ROMS/Functionals/ana_btflux.h\n",
       "    CPP_options:                     WC12_CCSRA, ADJOINT, ANA_BSFLUX, ANA_BTF...\n",
       "    NCO:                             \"4.5.2\"\n",
       "    cdm_data_type:                   GRID\n",
       "    CF%3afeature_type:               GRID\n",
       "    location:                        Proto fmrc:CCSRA 2016a Phys ROMS z-level...\n",
       "    DODS_EXTRA.Unlimited_Dimension:  ocean_time"
      ]
     },
     "execution_count": 5,
     "metadata": {},
     "output_type": "execute_result"
    }
   ],
   "source": [
    "### Let's see what's in the dataset\n",
    "# hooo boy, there's a lot here with all the metadata and everything\n",
    "ds"
   ]
  },
  {
   "cell_type": "code",
   "execution_count": 7,
   "metadata": {},
   "outputs": [],
   "source": [
    "### making a timenum column for plotting\n",
    "ds['mtime'] = mdates.date2num(ds.time)"
   ]
  },
  {
   "cell_type": "code",
   "execution_count": 10,
   "metadata": {},
   "outputs": [],
   "source": [
    "### Import modules for mapping\n",
    "import cartopy.crs as ccrs\n",
    "import cartopy\n",
    "import matplotlib.gridspec as gridspec # GRIDSPEC !\n",
    "from cartopy.mpl.gridliner import LONGITUDE_FORMATTER, LATITUDE_FORMATTER"
   ]
  },
  {
   "cell_type": "code",
   "execution_count": null,
   "metadata": {},
   "outputs": [],
   "source": []
  }
 ],
 "metadata": {
  "kernelspec": {
   "display_name": "Python 3",
   "language": "python",
   "name": "python3"
  },
  "language_info": {
   "codemirror_mode": {
    "name": "ipython",
    "version": 3
   },
   "file_extension": ".py",
   "mimetype": "text/x-python",
   "name": "python",
   "nbconvert_exporter": "python",
   "pygments_lexer": "ipython3",
   "version": "3.6.7"
  }
 },
 "nbformat": 4,
 "nbformat_minor": 2
}
